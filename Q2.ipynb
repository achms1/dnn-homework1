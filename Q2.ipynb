{
 "cells": [
  {
   "cell_type": "code",
   "execution_count": 7,
   "metadata": {},
   "outputs": [
    {
     "name": "stdout",
     "output_type": "stream",
     "text": [
      "Number of iterations needed in gradient descent approach to converge is 749\n",
      "Number of iterations needed in momentum approach to converge is  74\n",
      "Number of iterations needed in Nesterov approach to converge is 75\n"
     ]
    },
    {
     "data": {
      "image/png": "[encoded data removed]",
      "text/plain": [
       "<Figure size 900x300 with 1 Axes>"
      ]
     },
     "metadata": {
      "needs_background": "light"
     },
     "output_type": "display_data"
    },
    {
     "data": {
      "image/png": "[encoded data removed]",
      "text/plain": [
       "<Figure size 675x225 with 1 Axes>"
      ]
     },
     "metadata": {
      "needs_background": "light"
     },
     "output_type": "display_data"
    },
    {
     "data": {
      "image/png": "[encoded data removed]",
      "text/plain": [
       "<Figure size 684x228 with 1 Axes>"
      ]
     },
     "metadata": {
      "needs_background": "light"
     },
     "output_type": "display_data"
    }
   ],
   "source": [
    "\"\"\"\n",
    "Created on Wed Feb 5 17:53:07 2020\n",
    "Question 2\n",
    "@author: Dhirane Satvik Kona, Ramyatha Posani, Achyuth Maddala Sitaram, Mohit Bhagwat\n",
    "\n",
    "Objective: Overfitting\n",
    "\"\"\"\n",
    "import numpy as np\n",
    "import math\n",
    "import matplotlib.pyplot as plt\n",
    "from numpy.polynomial.polynomial import polyval\n",
    "%matplotlib inline\n",
    "a = 1.8 #Original values obtained from closed form solution\n",
    "b = 1.4 #Original values obtained from closed form solution\n",
    "#GradientA = 2*a + b*4.6200688 - 4.4407613\n",
    "#GradientB = 4.62006*a + b*11.7068693 - 11.661652\n",
    "atrue = -0.91\n",
    "btrue = 1.35\n",
    "learning_rate = 0.05\n",
    "gamma = 0.09\n",
    "data = np.loadtxt('data_HW1_ex1.csv', delimiter=',')\n",
    "x = data[:,0].reshape(100,1)\n",
    "y = data[:,1].reshape(100,1)\n",
    "\n",
    "def hypo(a, b):\n",
    "    return polyval(x, [a, b])\n",
    "    \n",
    "def totalLoss( a, b):\n",
    "    return np.mean((y - hypo(a, b))**2)\n",
    "\n",
    "#Through analytic method by finding the partial derivates of loss function wrt a and b respectively\n",
    "#and the resultant equations are below by keeping track or store of Sigma(x_i), Sigma(y_i), Sigma(x_i*y_i), Sigma(x_i^2)\n",
    "#Solving for 1/N([y -(a + b*x)]^2) for all x_i,y_i\n",
    "def lossA(a,b):\n",
    "    valueLossA = 2*a + b*4.6200688 - 4.4407613\n",
    "    valueLossB = 4.62006*a + b*11.7068693 - 11.661652\n",
    "    return np.array([valueLossA,valueLossB]).reshape(-1,1)\n",
    "\n",
    "#Gradient Descent method using the learning_rate\n",
    "def descentGradient(a,b,learning_rate):\n",
    "    epsilon = 0.0038\n",
    "    atrue = -0.91\n",
    "    btrue = 1.35\n",
    "    count=0\n",
    "    loss = []\n",
    "    l_r = learning_rate\n",
    "    I = np.array([a,b]).reshape(-1,1)\n",
    "    while(True):\n",
    "        C = np.zeros((2)).reshape(-1,1)\n",
    "        C = I - l_r*lossA(a,b)\n",
    "        a = C[0]\n",
    "        b = C[1]\n",
    "        I = C\n",
    "        loss.append(totalLoss(a,b))\n",
    "        diffa = abs(a - atrue)\n",
    "        diffb = abs(b-btrue)\n",
    "        count = count+1\n",
    "        if diffa <= epsilon and diffb <= epsilon:\n",
    "            break\n",
    "        else:\n",
    "            continue\n",
    "    print(\"Number of iterations needed in gradient descent approach to converge is\" ,count)\n",
    "    return count ,loss[:99]\n",
    "    \n",
    "\n",
    "#Momentum method to find the convergence\n",
    "def momentum(a,b,Gamma,learning_rate):\n",
    "    init_vel = np.zeros((2)).reshape(-1,1)\n",
    "    epsilon = 0.01\n",
    "    count=0\n",
    "    atrue = -0.91\n",
    "    btrue = 1.35\n",
    "    loss =[]\n",
    "    l_r = learning_rate\n",
    "    I = np.array([a,b]).reshape(-1,1)\n",
    "    while(True):\n",
    "        C = np.zeros((2)).reshape(-1,1)\n",
    "        vel_updated = Gamma*init_vel + l_r*lossA(a,b)\n",
    "        C = I - vel_updated\n",
    "        init_vel = vel_updated\n",
    "        a = C[0]\n",
    "        b = C[1]\n",
    "        I = C\n",
    "        #print(a,b)\n",
    "        loss.append(totalLoss(a,b))\n",
    "        diffa = abs(a - atrue)\n",
    "        diffb = abs(b-btrue)\n",
    "        count = count+1\n",
    "        if diffa <= epsilon and diffb <= epsilon:\n",
    "            break\n",
    "        else:\n",
    "            continue\n",
    "    print(\"Number of iterations needed in momentum approach to converge is \",count)\n",
    "    return count,loss\n",
    "\n",
    "#Nesterov method to find the loss\n",
    "def nesterov(a,b,Gamma,learning_rate):\n",
    "    l_r = learning_rate\n",
    "    init_vel = np.zeros((2)).reshape(-1,1)\n",
    "    epsilon = 0.01\n",
    "    count=0\n",
    "    atrue = -0.91\n",
    "    btrue = 1.35\n",
    "    loss =[]\n",
    "    I = np.array([a,b]).reshape(-1,1)\n",
    "    while(True):\n",
    "        C = np.zeros((2)).reshape(-1,1)\n",
    "        vel_updated = Gamma*init_vel + l_r*lossA(a-Gamma*init_vel[0], b-Gamma*init_vel[1])\n",
    "        C = I - vel_updated\n",
    "        init_vel = vel_updated\n",
    "        a = C[0]\n",
    "        b = C[1]\n",
    "        I = C\n",
    "        loss.append(totalLoss(a,b))\n",
    "        diffa = abs(a - atrue)\n",
    "        diffb = abs(b-btrue)\n",
    "        count = count+1\n",
    "        if diffa <= epsilon and diffb <= epsilon:\n",
    "            break\n",
    "        else:\n",
    "            continue\n",
    "    print(\"Number of iterations needed in Nesterov approach to converge is\" ,count)\n",
    "    return count,loss\n",
    "\n",
    "\n",
    "a = 1.8\n",
    "b = 1.4\n",
    "atrue = -0.91\n",
    "btrue = 1.35\n",
    "learning_rate = 0.05\n",
    "gamma = 0.9\n",
    "\n",
    "iterationsGradient,lossg = descentGradient(a,b,learning_rate)\n",
    "countMomentum ,lossm    = momentum(a,b,gamma,learning_rate)\n",
    "nesterovCount , lossn =      nesterov(a,b,gamma,learning_rate)\n",
    "graph1 = np.arange(1, 100, 1)\n",
    "fig = plt.figure(figsize=(9, 3), dpi=100)\n",
    "ax = fig.add_subplot(1, 3, 1)\n",
    "ax.plot(graph1, lossg, color='red')\n",
    "ax.set_title('Gradient-Descent')\n",
    "graph2 = np.arange(1, 75, 1)\n",
    "fig = plt.figure(figsize=(9, 3), dpi=75)\n",
    "ax = fig.add_subplot(1, 3, 2)\n",
    "ax.plot(graph2, lossm, color='green')\n",
    "ax.set_title('Momentum')\n",
    "graph3 = np.arange(1, 76, 1)\n",
    "fig = plt.figure(figsize=(9, 3), dpi=76)\n",
    "ax = fig.add_subplot(1, 3, 3)\n",
    "ax.plot(graph3, lossn, color='blue')\n",
    "ax.set_title('Nesterov')\n",
    "plt.tight_layout()\n",
    "plt.show()"
   ]
  },
  {
   "cell_type": "code",
   "execution_count": 8,
   "metadata": {},
   "outputs": [
    {
     "data": {
      "image/png": "[encoded data removed]",
      "text/plain": [
       "<Figure size 800x200 with 4 Axes>"
      ]
     },
     "metadata": {
      "needs_background": "light"
     },
     "output_type": "display_data"
    }
   ],
   "source": [
    "#Extra Credit Question\n",
    "\n",
    "import numpy as np\n",
    "import matplotlib.pyplot as plt\n",
    "from numpy.polynomial.polynomial import polyval\n",
    "import torch\n",
    "\n",
    "class Regression(torch.nn.Module): \n",
    "    def __init__(self): \n",
    "        super(Regression, self).__init__() \n",
    "        self.linear = torch.nn.Linear(1, 1) \n",
    "  \n",
    "    def forward(self, x): \n",
    "        y_pred = self.linear(x) \n",
    "        return y_pred\n",
    "\n",
    "#Extra methods of linear regression, Adam, Adagrad, RMSprop, SGD\n",
    "class extraMethods():\n",
    "    def __init__(self, data):\n",
    "        self.x = data[:,0].reshape(100,1)\n",
    "        self.y = data[:,1].reshape(100,1)\n",
    "        our_model = Regression()        \n",
    "        condi = torch.nn.MSELoss(reduction = 'mean')\n",
    "        methods = []\n",
    "        methods.append(torch.optim.SGD(our_model.parameters(), lr = 0.01))\n",
    "        methods.append(torch.optim.Adam(our_model.parameters(), lr = 0.01))\n",
    "        methods.append(torch.optim.Adagrad(our_model.parameters(), lr = 0.01)) \n",
    "        methods.append(torch.optim.RMSprop(our_model.parameters(), lr = 0.01, alpha=0.9))\n",
    "        epoch_loss = []\n",
    "        for i in range(4):\n",
    "            epoch_loss.append([])\n",
    "        for i, meth in enumerate(methods):\n",
    "            for epoch in range(100):\n",
    "                y_pred = our_model(torch.autograd.Variable(torch.Tensor(self.x)))\n",
    "                loss = condi(y_pred, torch.autograd.Variable(torch.Tensor(self.y)))\n",
    "                epoch_loss[i].append(loss.item())\n",
    "                meth.zero_grad()\n",
    "                loss.backward()\n",
    "                meth.step()\n",
    "        graph1 = np.arange(1, 101, 1)\n",
    "        fig = plt.figure(figsize=(8, 2), dpi=100)\n",
    "        ax = fig.add_subplot(1, 4, 1)\n",
    "        ax.plot(graph1, epoch_loss[0], color='black')\n",
    "        ax.set_title('SGD')\n",
    "        ax = fig.add_subplot(1, 4, 2)\n",
    "        ax.plot(graph1, epoch_loss[1], color='blue')\n",
    "        ax.set_title('Adam')\n",
    "        ax = fig.add_subplot(1, 4, 3)\n",
    "        ax.plot(graph1, epoch_loss[2], color='red')\n",
    "        ax.set_title('Adagrad')\n",
    "        ax = fig.add_subplot(1, 4, 4)\n",
    "        ax.plot(graph1, epoch_loss[3], color='yellow')\n",
    "        ax.set_title('RMSprop')\n",
    "        plt.tight_layout()\n",
    "        plt.show()\n",
    "if __name__=='__main__':\n",
    "    np.random.seed(2)\n",
    "    data = np.loadtxt('data_HW1_ex1.csv', delimiter=',')\n",
    "    variants = extraMethods(data)"
   ]
  },
  {
   "cell_type": "code",
   "execution_count": null,
   "metadata": {},
   "outputs": [],
   "source": []
  }
 ],
 "metadata": {
  "kernelspec": {
   "display_name": "Python 3",
   "language": "python",
   "name": "python3"
  },
  "language_info": {
   "codemirror_mode": {
    "name": "ipython",
    "version": 3
   },
   "file_extension": ".py",
   "mimetype": "text/x-python",
   "name": "python",
   "nbconvert_exporter": "python",
   "pygments_lexer": "ipython3",
   "version": "3.7.4"
  }
 },
 "nbformat": 4,
 "nbformat_minor": 2
}
